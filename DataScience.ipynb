{
  "cells": [
    {
      "cell_type": "markdown",
      "metadata": {
        "id": "view-in-github",
        "colab_type": "text"
      },
      "source": [
        "<a href=\"https://colab.research.google.com/github/Xitesc/241-2567-820/blob/main/DataScience.ipynb\" target=\"_parent\"><img src=\"https://colab.research.google.com/assets/colab-badge.svg\" alt=\"Open In Colab\"/></a>"
      ]
    },
    {
      "cell_type": "code",
      "source": [
        "from google.colab import drive\n",
        "drive.mount('/content/drive')"
      ],
      "metadata": {
        "id": "mlrXzEwLsdwr"
      },
      "execution_count": null,
      "outputs": []
    },
    {
      "cell_type": "code",
      "source": [],
      "metadata": {
        "id": "oCpjFxqhyffZ"
      },
      "execution_count": null,
      "outputs": []
    },
    {
      "cell_type": "code",
      "execution_count": null,
      "metadata": {
        "id": "f8mAUSkyap8Z"
      },
      "outputs": [],
      "source": [
        "x =str(2)\n",
        "y = float(2)\n",
        "z = int(2)"
      ]
    },
    {
      "cell_type": "code",
      "execution_count": null,
      "metadata": {
        "colab": {
          "base_uri": "https://localhost:8080/"
        },
        "id": "xvrrQVvMaK8q",
        "outputId": "d277a565-7b8a-4059-955f-79a987c389b3"
      },
      "outputs": [
        {
          "name": "stdout",
          "output_type": "stream",
          "text": [
            "5\n",
            "John\n"
          ]
        }
      ],
      "source": [
        "x =5\n",
        "y = \"John\"\n",
        "print(x)\n",
        "print(y)"
      ]
    },
    {
      "cell_type": "code",
      "execution_count": null,
      "metadata": {
        "colab": {
          "base_uri": "https://localhost:8080/"
        },
        "id": "9JgUpvFQbe2J",
        "outputId": "e18053c0-b2f0-451c-8014-71ab273c9b81"
      },
      "outputs": [
        {
          "name": "stdout",
          "output_type": "stream",
          "text": [
            "<class 'int'>\n"
          ]
        }
      ],
      "source": [
        "x=5\n",
        "print(type(x))\n"
      ]
    },
    {
      "cell_type": "code",
      "execution_count": null,
      "metadata": {
        "colab": {
          "base_uri": "https://localhost:8080/"
        },
        "id": "PfP5xIcZcNgB",
        "outputId": "280d2fea-52d5-4d88-ad2c-6946589b28b4"
      },
      "outputs": [
        {
          "name": "stdout",
          "output_type": "stream",
          "text": [
            "helloworld\n",
            "hello!world\n",
            "hello Wolrd ! R2DE\n"
          ]
        }
      ],
      "source": [
        "print(\"hello\"+\"world\")\n",
        "print(\"hello\"+\"!\"+\"world\")\n",
        "print(\"hello\",\"Wolrd\",\"!\",\"R2DE\")"
      ]
    },
    {
      "cell_type": "code",
      "execution_count": null,
      "metadata": {
        "colab": {
          "background_save": true
        },
        "id": "vw6ySYbbeCkw",
        "outputId": "374641d6-de31-4c85-8197-4b5e6a7d7abc"
      },
      "outputs": [
        {
          "data": {
            "text/plain": [
              "1"
            ]
          },
          "execution_count": 16,
          "metadata": {},
          "output_type": "execute_result"
        }
      ],
      "source": []
    },
    {
      "cell_type": "code",
      "execution_count": null,
      "metadata": {
        "colab": {
          "base_uri": "https://localhost:8080/"
        },
        "id": "SbWQogVLcRVp",
        "outputId": "07d17bf9-6278-45b4-d89a-7d797c6d4c9a"
      },
      "outputs": [
        {
          "name": "stdout",
          "output_type": "stream",
          "text": [
            "single qoute\n"
          ]
        }
      ],
      "source": [
        "print('single qoute')"
      ]
    },
    {
      "cell_type": "markdown",
      "metadata": {
        "id": "87rsJqHWcY95"
      },
      "source": [
        "Hello world\n"
      ]
    }
  ],
  "metadata": {
    "colab": {
      "provenance": [],
      "authorship_tag": "ABX9TyMeiyLwYPCMJsChSdOpXY82",
      "include_colab_link": true
    },
    "kernelspec": {
      "display_name": "Python 3",
      "name": "python3"
    },
    "language_info": {
      "name": "python"
    }
  },
  "nbformat": 4,
  "nbformat_minor": 0
}